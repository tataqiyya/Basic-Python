{
 "cells": [
  {
   "cell_type": "code",
   "execution_count": 2,
   "metadata": {},
   "outputs": [],
   "source": [
    "f = open(\"receiver_list.txt\" , \"w\")\n",
    "f.write(\"taqiyyaandini@gmail.com , qaniaathayafakira@gmail.com\")\n",
    "f.close()"
   ]
  },
  {
   "cell_type": "code",
   "execution_count": 3,
   "metadata": {},
   "outputs": [
    {
     "name": "stdout",
     "output_type": "stream",
     "text": [
      "taqiyyaandini@gmail.com , qaniaathayafakira@gmail.com\n"
     ]
    }
   ],
   "source": [
    "f = open('receiver_list.txt' , 'r')\n",
    "print(f.read())\n",
    "f.close()"
   ]
  },
  {
   "cell_type": "code",
   "execution_count": 2,
   "metadata": {},
   "outputs": [
    {
     "name": "stdout",
     "output_type": "stream",
     "text": [
      "Subject: Final Project Tata\n",
      "Input Your Message Here: Hello it's Tata! How are you?\n",
      "Email Has Sent!\n"
     ]
    }
   ],
   "source": [
    "# http://hanangpriambodo.com/2014/03/07/mengirim-email-menggunakan-script-python/\n",
    "import smtplib\n",
    "\n",
    "maiser = 'smtp.gmail.com'\n",
    "portmail = 587\n",
    "sender = \"taqiyyaandini2@gmail.com\"\n",
    "password = \"tata.0202\"\n",
    "receiver = \"taqiyyaandini@gmail.com\" , \"qaniaathayafakira@gmail.com\"\n",
    "\n",
    "\n",
    "server = smtplib.SMTP('smtp.gmail.com',587)\n",
    "server.starttls()\n",
    "\n",
    "server.login(sender,password)\n",
    "\n",
    "subject = input(\"Subject: \")\n",
    "msg = input(\"Input Your Message Here: \")\n",
    "\n",
    "#  https://www.codepolitan.com/menggunakan-smtp-server-dan-smtplib-di-python-589fcb3e610ee\n",
    "try:\n",
    "    server.sendmail(sender,receiver,msg)\n",
    "    print(\"Email Has Sent!\")\n",
    "except:\n",
    "    print(\"Error! Email Not Sent, Try Again\")"
   ]
  },
  {
   "cell_type": "code",
   "execution_count": null,
   "metadata": {},
   "outputs": [],
   "source": []
  }
 ],
 "metadata": {
  "kernelspec": {
   "display_name": "Python 3",
   "language": "python",
   "name": "python3"
  },
  "language_info": {
   "codemirror_mode": {
    "name": "ipython",
    "version": 3
   },
   "file_extension": ".py",
   "mimetype": "text/x-python",
   "name": "python",
   "nbconvert_exporter": "python",
   "pygments_lexer": "ipython3",
   "version": "3.8.5"
  }
 },
 "nbformat": 4,
 "nbformat_minor": 4
}
